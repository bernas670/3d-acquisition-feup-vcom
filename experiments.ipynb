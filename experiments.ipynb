{
 "metadata": {
  "language_info": {
   "codemirror_mode": {
    "name": "ipython",
    "version": 3
   },
   "file_extension": ".py",
   "mimetype": "text/x-python",
   "name": "python",
   "nbconvert_exporter": "python",
   "pygments_lexer": "ipython3",
   "version": "3.9.1-final"
  },
  "orig_nbformat": 2,
  "kernelspec": {
   "name": "python3",
   "display_name": "Python 3.9.1 64-bit ('vcom-env': conda)",
   "metadata": {
    "interpreter": {
     "hash": "d112ed956058574d23f6aaae090497bf78a65c2cfd4468810029ec4ff9d75a73"
    }
   }
  }
 },
 "nbformat": 4,
 "nbformat_minor": 2,
 "cells": [
  {
   "source": [
    "# Step 1: Calibration of camera intrinsic values"
   ],
   "cell_type": "markdown",
   "metadata": {}
  },
  {
   "cell_type": "code",
   "execution_count": 1,
   "metadata": {},
   "outputs": [],
   "source": [
    "import numpy as np\n",
    "import cv2\n",
    "import glob"
   ]
  },
  {
   "source": [
    "## Chessboard calibration"
   ],
   "cell_type": "markdown",
   "metadata": {}
  },
  {
   "cell_type": "code",
   "execution_count": 2,
   "metadata": {},
   "outputs": [],
   "source": [
    "CAMERA_ID = 'david'\n",
    "CHESSBOARD_SQUARE_LENGTH_MM = 20\n",
    "CHESSBOARD_DIMENSIONS = (9,6)"
   ]
  },
  {
   "cell_type": "code",
   "execution_count": 3,
   "metadata": {
    "tags": []
   },
   "outputs": [
    {
     "output_type": "stream",
     "name": "stdout",
     "text": [
      "Found 19 calibration images\n",
      "Could not find chessboard corners in image data/calibration/david/calibration_frame_2021-04-02 16:39:56.783532.png\n",
      "Could not find chessboard corners in image data/calibration/david/calibration_frame_2021-04-02 16:39:36.784381.png\n",
      "Could not find chessboard corners in image data/calibration/david/calibration_frame_2021-04-02 16:38:46.784388.png\n",
      "Could not find chessboard corners in image data/calibration/david/calibration_frame_2021-04-02 16:39:41.783697.png\n"
     ]
    }
   ],
   "source": [
    "# termination criteria\n",
    "criteria = (cv2.TERM_CRITERIA_EPS + cv2.TERM_CRITERIA_MAX_ITER, 30, 0.001)\n",
    "\n",
    "# prepare object points, like (0,0,0), (1,0,0), (2,0,0) ....,(6,5,0)\n",
    "objp = np.zeros((CHESSBOARD_DIMENSIONS[0] * CHESSBOARD_DIMENSIONS[1],3), np.float32)\n",
    "\n",
    "# TODO: check if this is the correct way to adjust the sizes. Used this accordint to: https://stackoverflow.com/questions/37310210/camera-calibration-with-opencv-how-to-adjust-chessboard-square-size\n",
    "objp[:,:2] = np.mgrid[0:CHESSBOARD_DIMENSIONS[0],0:CHESSBOARD_DIMENSIONS[1]].T.reshape(-1,2) * CHESSBOARD_SQUARE_LENGTH_MM\n",
    "\n",
    "# Arrays to store object points and image points from all the images.\n",
    "objpoints = [] # 3d point in real world space\n",
    "imgpoints = [] # 2d points in image plane.\n",
    "\n",
    "images = glob.glob(f'data/calibration/{CAMERA_ID}/*.png')\n",
    "print(f'Found {len(images)} calibration images')\n",
    "\n",
    "for fname in images:\n",
    "    img = cv2.imread(fname)\n",
    "    gray = cv2.cvtColor(img,cv2.COLOR_BGR2GRAY)\n",
    "\n",
    "    # Find the chess board corners\n",
    "    ret, corners = cv2.findChessboardCorners(gray, CHESSBOARD_DIMENSIONS, None)\n",
    "\n",
    "    # If found, add object points, image points (after refining them)\n",
    "    if ret == True:\n",
    "        objpoints.append(objp)\n",
    "\n",
    "        corners2 = cv2.cornerSubPix(gray,corners,(11,11),(-1,-1),criteria)\n",
    "        imgpoints.append(corners2)\n",
    "        # Draw and display the corners\n",
    "        img = cv2.drawChessboardCorners(img, (CHESSBOARD_DIMENSIONS[0],CHESSBOARD_DIMENSIONS[1]), corners2,ret)\n",
    "    else:\n",
    "        print(f'Could not find chessboard corners in image {fname}')\n"
   ]
  },
  {
   "cell_type": "code",
   "execution_count": 4,
   "metadata": {},
   "outputs": [
    {
     "output_type": "stream",
     "name": "stdout",
     "text": [
      "Image Dimensions\n(480, 640)\nIntrinsic Matrix\n[[563.75694808   0.         332.16377885]\n [  0.         558.41973861 215.14146953]\n [  0.           0.           1.        ]]\nDistortion Coefficients\n[[ 0.22044414 -0.71477837 -0.00554924 -0.00207883  0.98609804]]\nRotation Vectors\n[array([[-0.01860486],\n       [ 0.17610102],\n       [-0.07497551]]), array([[0.11681047],\n       [0.15346942],\n       [1.69163244]]), array([[0.20858081],\n       [0.09252583],\n       [2.32986873]]), array([[0.166542  ],\n       [0.12575134],\n       [1.95168276]]), array([[0.24231219],\n       [0.06742631],\n       [2.60452293]]), array([[0.17773233],\n       [0.09973117],\n       [2.4501321 ]]), array([[0.29928722],\n       [0.0226388 ],\n       [3.11977239]]), array([[-0.32006937],\n       [-0.03510258],\n       [-3.10804777]]), array([[-0.11721898],\n       [ 0.12362866],\n       [-1.17105577]]), array([[-0.48183015],\n       [-0.13182307],\n       [-2.98426722]]), array([[-0.27082947],\n       [-0.02717017],\n       [-3.1207126 ]]), array([[-0.06610417],\n       [ 0.18600636],\n       [-0.75699984]]), array([[0.10326911],\n       [0.17094668],\n       [1.55091897]]), array([[-0.15110013],\n       [ 0.10416731],\n       [-1.54135164]]), array([[-0.01992692],\n       [ 0.17027119],\n       [-0.09781523]])]\nTranslation Vectors\n[array([[-147.4009704 ],\n       [ -88.96450174],\n       [ 371.61148681]]), array([[ 68.52177219],\n       [-90.78825719],\n       [336.70183388]]), array([[ 30.19171985],\n       [-34.73050796],\n       [336.74309209]]), array([[ -4.218888  ],\n       [-88.01751   ],\n       [343.91697913]]), array([[ 40.04262463],\n       [ -7.86387285],\n       [334.09008682]]), array([[ 83.13977869],\n       [-44.09796723],\n       [334.3310093 ]]), array([[ 48.51074818],\n       [ 32.95537673],\n       [332.90501487]]), array([[-16.53222578],\n       [ 10.46949952],\n       [342.31641372]]), array([[-117.77262956],\n       [  39.58510519],\n       [ 363.50489315]]), array([[ 28.02919973],\n       [ 37.31107674],\n       [285.03996994]]), array([[ 25.5821178 ],\n       [  9.68159299],\n       [340.72970462]]), array([[-157.86153519],\n       [ -11.22924459],\n       [ 371.69197151]]), array([[  25.62055304],\n       [-124.43126353],\n       [ 344.34228433]]), array([[-92.48313554],\n       [ 70.32658828],\n       [357.92965968]]), array([[-150.1295734 ],\n       [ -91.34900184],\n       [ 371.83914886]])]\n"
     ]
    }
   ],
   "source": [
    "ret, mtx, dist, rvecs, tvecs = cv2.calibrateCamera(objpoints, imgpoints, gray.shape[::-1],None,None)\n",
    "print('Image Dimensions')\n",
    "print(gray.shape)\n",
    "print('Intrinsic Matrix')\n",
    "print(mtx)\n",
    "print('Distortion Coefficients')\n",
    "print(dist)\n",
    "print('Rotation Vectors')\n",
    "print(rvecs)\n",
    "print('Translation Vectors')\n",
    "print(tvecs)"
   ]
  },
  {
   "cell_type": "code",
   "execution_count": 5,
   "metadata": {},
   "outputs": [],
   "source": []
  },
  {
   "cell_type": "code",
   "execution_count": null,
   "metadata": {},
   "outputs": [],
   "source": []
  }
 ]
}