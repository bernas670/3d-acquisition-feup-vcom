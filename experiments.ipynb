{
 "metadata": {
  "language_info": {
   "codemirror_mode": {
    "name": "ipython",
    "version": 3
   },
   "file_extension": ".py",
   "mimetype": "text/x-python",
   "name": "python",
   "nbconvert_exporter": "python",
   "pygments_lexer": "ipython3",
   "version": "3.9.1-final"
  },
  "orig_nbformat": 2,
  "kernelspec": {
   "name": "python391jvsc74a57bd0d112ed956058574d23f6aaae090497bf78a65c2cfd4468810029ec4ff9d75a73",
   "display_name": "Python 3.9.1 64-bit ('vcom-env': conda)"
  }
 },
 "nbformat": 4,
 "nbformat_minor": 2,
 "cells": [
  {
   "source": [
    "# Step 1: Calibration of camera intrinsic values"
   ],
   "cell_type": "markdown",
   "metadata": {}
  },
  {
   "cell_type": "code",
   "execution_count": 1,
   "metadata": {},
   "outputs": [],
   "source": [
    "import numpy as np\n",
    "import cv2\n",
    "import glob"
   ]
  },
  {
   "source": [
    "## Chessboard calibration"
   ],
   "cell_type": "markdown",
   "metadata": {}
  },
  {
   "cell_type": "code",
   "execution_count": 2,
   "metadata": {},
   "outputs": [],
   "source": [
    "CAMERA_ID = 'david'\n",
    "CHESSBOARD_SQUARE_LENGTH_MM = 20\n",
    "CHESSBOARD_DIMENSIONS = (9,6)"
   ]
  },
  {
   "cell_type": "code",
   "execution_count": 5,
   "metadata": {
    "tags": []
   },
   "outputs": [
    {
     "output_type": "stream",
     "name": "stdout",
     "text": [
      "Found 21 calibration images\n",
      "Could not find chessboard corners in im age data/calibration/david/calibration_frame_2021-04-02 16:30:29.207936.png\n",
      "Could not find chessboard corners in im age data/calibration/david/calibration_frame_2021-04-02 16:38:36.952885.png\n",
      "Could not find chessboard corners in im age data/calibration/david/calibration_frame_2021-04-02 16:38:46.784388.png\n",
      "Could not find chessboard corners in im age data/calibration/david/calibration_frame_2021-04-02 16:39:56.783532.png\n",
      "Could not find chessboard corners in im age data/calibration/david/calibration_frame_2021-04-02 16:39:36.784381.png\n",
      "Could not find chessboard corners in im age data/calibration/david/calibration_frame_2021-04-02 16:39:41.783697.png\n"
     ]
    }
   ],
   "source": [
    "# termination criteria\n",
    "criteria = (cv2.TERM_CRITERIA_EPS + cv2.TERM_CRITERIA_MAX_ITER, 30, 0.001)\n",
    "\n",
    "# prepare object points, like (0,0,0), (1,0,0), (2,0,0) ....,(6,5,0)\n",
    "objp = np.zeros((CHESSBOARD_DIMENSIONS[0] * CHESSBOARD_DIMENSIONS[1],3), np.float32)\n",
    "\n",
    "# TODO: check if this is the correct way to adjust the sizes. Used this accordint to: https://stackoverflow.com/questions/37310210/camera-calibration-with-opencv-how-to-adjust-chessboard-square-size\n",
    "objp[:,:2] = np.mgrid[0:CHESSBOARD_DIMENSIONS[0],0:CHESSBOARD_DIMENSIONS[1]].T.reshape(-1,2) * CHESSBOARD_SQUARE_LENGTH_MM\n",
    "\n",
    "# Arrays to store object points and image points from all the images.\n",
    "objpoints = [] # 3d point in real world space\n",
    "imgpoints = [] # 2d points in image plane.\n",
    "\n",
    "images = glob.glob(f'data/calibration/{CAMERA_ID}/*.png')\n",
    "print(f'Found {len(images)} calibration images')\n",
    "\n",
    "for fname in images:\n",
    "    img = cv2.imread(fname)\n",
    "    gray = cv2.cvtColor(img,cv2.COLOR_BGR2GRAY)\n",
    "\n",
    "    # Find the chess board corners\n",
    "    ret, corners = cv2.findChessboardCorners(gray, CHESSBOARD_DIMENSIONS, None)\n",
    "\n",
    "    # If found, add object points, image points (after refining them)\n",
    "    if ret == True:\n",
    "        objpoints.append(objp)\n",
    "\n",
    "        corners2 = cv2.cornerSubPix(gray,corners,(11,11),(-1,-1),criteria)\n",
    "        imgpoints.append(corners2)\n",
    "        # Draw and display the corners\n",
    "        img = cv2.drawChessboardCorners(img, (CHESSBOARD_DIMENSIONS[0],CHESSBOARD_DIMENSIONS[1]), corners2,ret)\n",
    "    else:\n",
    "        print(f'Could not find chessboard corners in image {fname}')\n"
   ]
  },
  {
   "cell_type": "code",
   "execution_count": 9,
   "metadata": {},
   "outputs": [
    {
     "output_type": "stream",
     "name": "stdout",
     "text": [
      "Image Dimensions\n(480, 640)\nIntrinsic Matrix\n[[563.75694852   0.         332.1637786 ]\n [  0.         558.41973907 215.14146949]\n [  0.           0.           1.        ]]\nDistortion Coefficients\n[[ 0.22044414 -0.71477837 -0.00554924 -0.00207883  0.98609805]]\nRotation Vectors\n[array([[-0.27082947],\n       [-0.02717017],\n       [-3.1207126 ]]), array([[0.166542  ],\n       [0.12575134],\n       [1.95168276]]), array([[-0.48183016],\n       [-0.13182307],\n       [-2.98426722]]), array([[0.10326911],\n       [0.17094668],\n       [1.55091897]]), array([[0.11681047],\n       [0.15346942],\n       [1.69163244]]), array([[-0.01860486],\n       [ 0.17610102],\n       [-0.07497551]]), array([[-0.11721898],\n       [ 0.12362866],\n       [-1.17105577]]), array([[0.24231219],\n       [0.06742631],\n       [2.60452293]]), array([[0.29928722],\n       [0.0226388 ],\n       [3.11977239]]), array([[0.20858081],\n       [0.09252583],\n       [2.32986873]]), array([[-0.32006937],\n       [-0.03510258],\n       [-3.10804777]]), array([[-0.01992692],\n       [ 0.17027119],\n       [-0.09781523]]), array([[-0.06610417],\n       [ 0.18600636],\n       [-0.75699984]]), array([[0.17773233],\n       [0.09973117],\n       [2.4501321 ]]), array([[-0.15110013],\n       [ 0.10416731],\n       [-1.54135164]])]\nTranslation Vectors\n[array([[ 25.58211795],\n       [  9.68159302],\n       [340.7297049 ]]), array([[ -4.21888785],\n       [-88.01750997],\n       [343.91697942]]), array([[ 28.02919986],\n       [ 37.31107676],\n       [285.03997017]]), array([[  25.62055319],\n       [-124.4312635 ],\n       [ 344.34228461]]), array([[ 68.52177234],\n       [-90.78825716],\n       [336.70183416]]), array([[-147.40097024],\n       [ -88.96450171],\n       [ 371.61148712]]), array([[-117.77262941],\n       [  39.58510522],\n       [ 363.50489344]]), array([[ 40.04262478],\n       [ -7.86387283],\n       [334.09008709]]), array([[ 48.51074833],\n       [ 32.95537675],\n       [332.90501514]]), array([[ 30.19172   ],\n       [-34.73050793],\n       [336.74309237]]), array([[-16.53222563],\n       [ 10.46949954],\n       [342.316414  ]]), array([[-150.12957325],\n       [ -91.34900181],\n       [ 371.83914917]]), array([[-157.86153504],\n       [ -11.22924456],\n       [ 371.69197182]]), array([[ 83.13977884],\n       [-44.09796721],\n       [334.33100957]]), array([[-92.48313539],\n       [ 70.32658831],\n       [357.92965997]])]\n"
     ]
    }
   ],
   "source": [
    "ret, mtx, dist, rvecs, tvecs = cv2.calibrateCamera(objpoints, imgpoints, gray.shape[::-1],None,None)\n",
    "print('Image Dimensions')\n",
    "print(gray.shape)\n",
    "print('Intrinsic Matrix')\n",
    "print(mtx)\n",
    "print('Distortion Coefficients')\n",
    "print(dist)\n",
    "print('Rotation Vectors')\n",
    "print(rvecs)\n",
    "print('Translation Vectors')\n",
    "print(tvecs)"
   ]
  },
  {
   "cell_type": "code",
   "execution_count": null,
   "metadata": {},
   "outputs": [],
   "source": []
  }
 ]
}